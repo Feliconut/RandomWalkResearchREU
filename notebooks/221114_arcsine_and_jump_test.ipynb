{
 "cells": [
  {
   "cell_type": "code",
   "execution_count": 1,
   "metadata": {
    "collapsed": true
   },
   "outputs": [],
   "source": [
    "import walk\n",
    "from experiment import MultipleExperiment"
   ]
  },
  {
   "cell_type": "code",
   "execution_count": 2,
   "outputs": [],
   "source": [
    "def wf(weight):\n",
    "    return weight ** (1/2)\n",
    "\n",
    "test = MultipleExperiment(walk.SelfInteractingRandomWalk, n_trials=500, length=5000, chunk_size=100, weight_function=wf)\n",
    "test.run()"
   ],
   "metadata": {
    "collapsed": false
   }
  },
  {
   "cell_type": "code",
   "execution_count": 3,
   "outputs": [
    {
     "name": "stdout",
     "output_type": "stream",
     "text": [
      "Brownian Motion Test Results for 500 trials of length 5000\n",
      "Arcsine Test Statistic: 0.1323355984204393, p-value:4.2694612440011065e-08\n",
      "Jump Test Statistic: 6.235028799860374, p-value:0.04426706199976596\n"
     ]
    }
   ],
   "source": [
    "test.bw_test()"
   ],
   "metadata": {
    "collapsed": false
   }
  },
  {
   "cell_type": "code",
   "execution_count": 5,
   "outputs": [],
   "source": [
    "test2 = MultipleExperiment(walk.SimpleSymmetricRandomWalk, n_trials=500, length=5000, chunk_size=100)\n",
    "test2.run()"
   ],
   "metadata": {
    "collapsed": false
   }
  },
  {
   "cell_type": "code",
   "execution_count": 6,
   "outputs": [
    {
     "name": "stdout",
     "output_type": "stream",
     "text": [
      "Brownian Motion Test Results for 500 trials of length 5000\n",
      "Arcsine Test Statistic: 0.05026286346569753, p-value:0.15451157535247773\n",
      "Jump Test Statistic: 2.472218376888911, p-value:0.29051235065091785\n"
     ]
    }
   ],
   "source": [
    "test2.bw_test()"
   ],
   "metadata": {
    "collapsed": false
   }
  },
  {
   "cell_type": "code",
   "execution_count": 7,
   "outputs": [],
   "source": [
    "test3 = MultipleExperiment(walk.LinearEdgeReinforcedRandomWalk, n_trials=500, length=5000, chunk_size=100)\n",
    "test3.run()"
   ],
   "metadata": {
    "collapsed": false
   }
  },
  {
   "cell_type": "code",
   "execution_count": 8,
   "outputs": [
    {
     "name": "stdout",
     "output_type": "stream",
     "text": [
      "Brownian Motion Test Results for 500 trials of length 5000\n",
      "Arcsine Test Statistic: 0.14566827830329143, p-value:1.0077942010993265e-09\n",
      "Jump Test Statistic: 212.4908186463072, p-value:7.214479495059321e-47\n"
     ]
    }
   ],
   "source": [
    "test3.bw_test()"
   ],
   "metadata": {
    "collapsed": false
   }
  },
  {
   "cell_type": "code",
   "execution_count": null,
   "outputs": [],
   "source": [],
   "metadata": {
    "collapsed": false
   }
  }
 ],
 "metadata": {
  "kernelspec": {
   "display_name": "Python 3",
   "language": "python",
   "name": "python3"
  },
  "language_info": {
   "codemirror_mode": {
    "name": "ipython",
    "version": 2
   },
   "file_extension": ".py",
   "mimetype": "text/x-python",
   "name": "python",
   "nbconvert_exporter": "python",
   "pygments_lexer": "ipython2",
   "version": "2.7.6"
  }
 },
 "nbformat": 4,
 "nbformat_minor": 0
}
