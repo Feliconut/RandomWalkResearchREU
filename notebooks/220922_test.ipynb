{
 "cells": [
  {
   "cell_type": "code",
   "execution_count": 1,
   "metadata": {
    "collapsed": true
   },
   "outputs": [],
   "source": [
    "import walk\n",
    "from experiment import MultipleExperiment"
   ]
  },
  {
   "cell_type": "code",
   "execution_count": 2,
   "outputs": [
    {
     "name": "stdout",
     "output_type": "stream",
     "text": [
      "Test Results for 20 trials of length 100\n",
      "(K-Squared) Statistic: 0.4429256175909626, p-value: 0.8013457246064708\n",
      "(Chi-Square) Statistic: 13.592775041050905, p-value: 0.8068920161930534\n",
      "(K-S) Statistic: 1.0, p-value: 0.0\n",
      "Test Results for 100 trials of length 100\n",
      "(K-Squared) Statistic: 2.924174775630941, p-value: 0.2317520131562665\n",
      "(Chi-Square) Statistic: 106.04088361358392, p-value: 0.29594222371419554\n",
      "(K-S) Statistic: 1.0, p-value: 0.0\n",
      "Test Results for 1000 trials of length 100\n",
      "(K-Squared) Statistic: 15.34121498056861, p-value: 0.00046633444399264066\n",
      "(Chi-Square) Statistic: 1183.8292568518395, p-value: 4.44439885184084e-05\n",
      "(K-S) Statistic: 1.0, p-value: 0.0\n",
      "Test Results for 10000 trials of length 100\n",
      "(K-Squared) Statistic: 30.555722390103366, p-value: 2.3169101263705641e-07\n",
      "(Chi-Square) Statistic: 10582.977217081516, p-value: 2.4908944966406532e-05\n",
      "(K-S) Statistic: 1.0, p-value: 0.0\n"
     ]
    }
   ],
   "source": [
    "params = [20, 100, 1000, 10000]\n",
    "\n",
    "for i in params:\n",
    "    test = MultipleExperiment(\n",
    "        walk.SimpleAsymmetricRandomWalk,\n",
    "        p=0.8,\n",
    "        n_trials=i,\n",
    "        length=100)\n",
    "\n",
    "    test.run()\n",
    "    test.test()"
   ],
   "metadata": {
    "collapsed": false
   }
  },
  {
   "cell_type": "code",
   "execution_count": 3,
   "outputs": [
    {
     "name": "stdout",
     "output_type": "stream",
     "text": [
      "Test Results for 100 trials of length 20\n",
      "(K-Squared) Statistic: 0.22033165908039576, p-value: 0.8956855918505645\n",
      "(Chi-Square) Statistic: 98.90685413005272, p-value: 0.4837345259344805\n",
      "(K-S) Statistic: 0.9999683287581669, p-value: 0.0\n",
      "Test Results for 100 trials of length 100\n",
      "(K-Squared) Statistic: 6.460179061224222, p-value: 0.039553957339855\n",
      "(Chi-Square) Statistic: 111.00502512562814, p-value: 0.19273396985655228\n",
      "(K-S) Statistic: 1.0, p-value: 0.0\n",
      "Test Results for 100 trials of length 1000\n",
      "(K-Squared) Statistic: 7.046926868868417, p-value: 0.0294970967883312\n",
      "(Chi-Square) Statistic: 115.26524614254222, p-value: 0.12613538143834135\n",
      "(K-S) Statistic: 1.0, p-value: 0.0\n",
      "Test Results for 100 trials of length 10000\n",
      "(K-Squared) Statistic: 2.8280122591480037, p-value: 0.24316717004976385\n",
      "(Chi-Square) Statistic: 105.15351850740896, p-value: 0.3171346714983234\n",
      "(K-S) Statistic: 1.0, p-value: 0.0\n"
     ]
    }
   ],
   "source": [
    "params = [20, 100, 1000, 10000]\n",
    "\n",
    "for i in params:\n",
    "    test = MultipleExperiment(\n",
    "        walk.SimpleAsymmetricRandomWalk,\n",
    "        p=0.8,\n",
    "        n_trials=100,\n",
    "        length=i)\n",
    "\n",
    "    test.run()\n",
    "    test.test()"
   ],
   "metadata": {
    "collapsed": false
   }
  },
  {
   "cell_type": "code",
   "execution_count": null,
   "outputs": [],
   "source": [],
   "metadata": {
    "collapsed": false
   }
  }
 ],
 "metadata": {
  "kernelspec": {
   "display_name": "Python 3",
   "language": "python",
   "name": "python3"
  },
  "language_info": {
   "codemirror_mode": {
    "name": "ipython",
    "version": 2
   },
   "file_extension": ".py",
   "mimetype": "text/x-python",
   "name": "python",
   "nbconvert_exporter": "python",
   "pygments_lexer": "ipython2",
   "version": "2.7.6"
  }
 },
 "nbformat": 4,
 "nbformat_minor": 0
}
