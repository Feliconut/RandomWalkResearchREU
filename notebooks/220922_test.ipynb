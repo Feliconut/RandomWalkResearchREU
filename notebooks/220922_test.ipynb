{
 "cells": [
  {
   "cell_type": "code",
   "execution_count": 1,
   "metadata": {
    "collapsed": true
   },
   "outputs": [],
   "source": [
    "import walk\n",
    "from experiment import MultipleExperiment"
   ]
  },
  {
   "cell_type": "code",
   "execution_count": 2,
   "outputs": [
    {
     "name": "stdout",
     "output_type": "stream",
     "text": [
      "Test Results for 20 trials of length 100\n",
      "(K-Squared) Statistic: 1.07164036096516, p-value: 0.5851891325586276\n",
      "(Chi-Square) Statistic: 15.072664359861594, p-value: 0.7179678866346164\n",
      "(K-S) Statistic: 0.13055865981823656, p-value: 0.842026920605822\n",
      "Test Results for 100 trials of length 100\n",
      "(K-Squared) Statistic: 3.662973578189812, p-value: 0.16017524384454226\n",
      "(Chi-Square) Statistic: 98.0188742837883, p-value: 0.5089823543884974\n",
      "(K-S) Statistic: 0.10026411668404006, p-value: 0.2499990187406994\n",
      "Test Results for 1000 trials of length 100\n",
      "(K-Squared) Statistic: 5.365162168067651, p-value: 0.0683864150791037\n",
      "(Chi-Square) Statistic: 1000.123072815858, p-value: 0.48403471248482804\n",
      "(K-S) Statistic: 0.06550394504304963, p-value: 0.00035677686868991156\n",
      "Test Results for 10000 trials of length 100\n",
      "(K-Squared) Statistic: 48.603320790281266, p-value: 2.79204870098407e-11\n",
      "(Chi-Square) Statistic: 10712.285733338667, p-value: 4.039503498009703e-07\n",
      "(K-S) Statistic: 0.06343610946542588, p-value: 1.9900239058660594e-35\n"
     ]
    }
   ],
   "source": [
    "params = [20, 100, 1000, 10000]\n",
    "\n",
    "for i in params:\n",
    "    test = MultipleExperiment(\n",
    "        walk.SimpleAsymmetricRandomWalk,\n",
    "        p=0.8,\n",
    "        n_trials=i,\n",
    "        length=100)\n",
    "\n",
    "    test.run()\n",
    "    test.test()"
   ],
   "metadata": {
    "collapsed": false
   }
  },
  {
   "cell_type": "code",
   "execution_count": 3,
   "outputs": [
    {
     "name": "stdout",
     "output_type": "stream",
     "text": [
      "Test Results for 100 trials of length 20\n",
      "(K-Squared) Statistic: 13.379946377363222, p-value: 0.0012433161074583837\n",
      "(Chi-Square) Statistic: 128.01077199281866, p-value: 0.026474519013059784\n",
      "(K-S) Statistic: 0.1355817522848185, p-value: 0.045910369624963976\n",
      "Test Results for 100 trials of length 100\n",
      "(K-Squared) Statistic: 1.1982538778813483, p-value: 0.5492909913851758\n",
      "(Chi-Square) Statistic: 79.72311739559358, p-value: 0.9225381656486872\n",
      "(K-S) Statistic: 0.10728250097698416, p-value: 0.1860041727566102\n",
      "Test Results for 100 trials of length 1000\n",
      "(K-Squared) Statistic: 7.748494670658107, p-value: 0.02076996481077017\n",
      "(Chi-Square) Statistic: 74.14121422840333, p-value: 0.9707792606696644\n",
      "(K-S) Statistic: 0.08659423167600971, p-value: 0.41782947823632444\n",
      "Test Results for 100 trials of length 10000\n",
      "(K-Squared) Statistic: 3.1667479232222666, p-value: 0.2052813171841007\n",
      "(Chi-Square) Statistic: 85.49154440437543, p-value: 0.8313588854710758\n",
      "(K-S) Statistic: 0.05510542038730981, p-value: 0.9051782508357885\n"
     ]
    }
   ],
   "source": [
    "params = [20, 100, 1000, 10000]\n",
    "\n",
    "for i in params:\n",
    "    test = MultipleExperiment(\n",
    "        walk.SimpleAsymmetricRandomWalk,\n",
    "        p=0.8,\n",
    "        n_trials=100,\n",
    "        length=i)\n",
    "\n",
    "    test.run()\n",
    "    test.test()"
   ],
   "metadata": {
    "collapsed": false
   }
  },
  {
   "cell_type": "code",
   "execution_count": null,
   "outputs": [],
   "source": [],
   "metadata": {
    "collapsed": false
   }
  }
 ],
 "metadata": {
  "kernelspec": {
   "display_name": "Python 3",
   "language": "python",
   "name": "python3"
  },
  "language_info": {
   "codemirror_mode": {
    "name": "ipython",
    "version": 2
   },
   "file_extension": ".py",
   "mimetype": "text/x-python",
   "name": "python",
   "nbconvert_exporter": "python",
   "pygments_lexer": "ipython2",
   "version": "2.7.6"
  }
 },
 "nbformat": 4,
 "nbformat_minor": 0
}
