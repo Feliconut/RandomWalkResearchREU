{
 "cells": [
  {
   "cell_type": "code",
   "execution_count": 1,
   "metadata": {
    "collapsed": true
   },
   "outputs": [],
   "source": [
    "import walk\n",
    "from experiment import MultipleExperiment\n",
    "from fitter import Fitter, get_common_distributions, get_distributions\n",
    "import tests"
   ]
  },
  {
   "cell_type": "code",
   "execution_count": 2,
   "outputs": [],
   "source": [
    "def wf(weight):\n",
    "    return weight ** (1/2)\n",
    "\n",
    "test = MultipleExperiment(walk.SelfInteractingRandomWalk, n_trials=500, length=10000, chunk_size=100, weight_function=wf)\n",
    "test.run()"
   ],
   "metadata": {
    "collapsed": false
   }
  },
  {
   "cell_type": "code",
   "execution_count": 3,
   "outputs": [
    {
     "name": "stderr",
     "output_type": "stream",
     "text": [
      "Fitting 1 distributions: 100%|██████████| 1/1 [00:00<00:00, 12.05it/s]\n"
     ]
    },
    {
     "data": {
      "text/plain": "      sumsquare_error       aic          bic    kl_div  ks_statistic  \\\nbeta        20.642354  9.383492 -1568.773136  0.119343      0.045526   \n\n      ks_pvalue  \nbeta   0.243733  ",
      "text/html": "<div>\n<style scoped>\n    .dataframe tbody tr th:only-of-type {\n        vertical-align: middle;\n    }\n\n    .dataframe tbody tr th {\n        vertical-align: top;\n    }\n\n    .dataframe thead th {\n        text-align: right;\n    }\n</style>\n<table border=\"1\" class=\"dataframe\">\n  <thead>\n    <tr style=\"text-align: right;\">\n      <th></th>\n      <th>sumsquare_error</th>\n      <th>aic</th>\n      <th>bic</th>\n      <th>kl_div</th>\n      <th>ks_statistic</th>\n      <th>ks_pvalue</th>\n    </tr>\n  </thead>\n  <tbody>\n    <tr>\n      <th>beta</th>\n      <td>20.642354</td>\n      <td>9.383492</td>\n      <td>-1568.773136</td>\n      <td>0.119343</td>\n      <td>0.045526</td>\n      <td>0.243733</td>\n    </tr>\n  </tbody>\n</table>\n</div>"
     },
     "execution_count": 3,
     "metadata": {},
     "output_type": "execute_result"
    },
    {
     "data": {
      "text/plain": "<Figure size 432x288 with 1 Axes>",
      "image/png": "[encoded data removed]"
     },
     "metadata": {
      "needs_background": "light"
     },
     "output_type": "display_data"
    }
   ],
   "source": [
    "f = Fitter(test.stats['ta0'], distributions=['beta'])\n",
    "f.fit()\n",
    "f.summary(method='ks_pvalue')"
   ],
   "metadata": {
    "collapsed": false
   }
  },
  {
   "cell_type": "code",
   "execution_count": 4,
   "outputs": [
    {
     "data": {
      "text/plain": "(0.9006381058446569,\n 1.0183122259401962,\n -2.847328959536787e-29,\n 0.9999962855933872)"
     },
     "execution_count": 4,
     "metadata": {},
     "output_type": "execute_result"
    }
   ],
   "source": [
    "f.fitted_param['beta']"
   ],
   "metadata": {
    "collapsed": false
   }
  },
  {
   "cell_type": "code",
   "execution_count": 5,
   "outputs": [
    {
     "data": {
      "text/plain": "KstestResult(statistic=0.1300790566528054, pvalue=7.763954844132288e-08)"
     },
     "execution_count": 5,
     "metadata": {},
     "output_type": "execute_result"
    }
   ],
   "source": [
    "tests.arcsine_test(test.stats['ta0'], 0.5, 0.5)"
   ],
   "metadata": {
    "collapsed": false
   }
  },
  {
   "cell_type": "code",
   "execution_count": 6,
   "outputs": [
    {
     "data": {
      "text/plain": "KstestResult(statistic=0.06329999999999991, pvalue=0.034812429591876026)"
     },
     "execution_count": 6,
     "metadata": {},
     "output_type": "execute_result"
    }
   ],
   "source": [
    "tests.arcsine_test(test.stats['ta0'], 1, 1)"
   ],
   "metadata": {
    "collapsed": false
   }
  },
  {
   "cell_type": "code",
   "execution_count": 7,
   "outputs": [],
   "source": [
    "def wf(weight):\n",
    "    return weight ** -1\n",
    "\n",
    "test2 = MultipleExperiment(walk.SelfInteractingRandomWalk, n_trials=500, length=10000, chunk_size=100, weight_function=wf)\n",
    "test2.run()"
   ],
   "metadata": {
    "collapsed": false
   }
  },
  {
   "cell_type": "code",
   "execution_count": 12,
   "outputs": [
    {
     "name": "stderr",
     "output_type": "stream",
     "text": [
      "Fitting 2 distributions: 100%|██████████| 2/2 [00:00<00:00, 27.40it/s]\n"
     ]
    },
    {
     "data": {
      "text/plain": "         sumsquare_error        aic         bic  kl_div  ks_statistic  \\\nbeta          318.188719  55.212990 -201.123285     inf      0.215214   \narcsine       283.925518  44.619044 -270.518862     inf      0.134727   \n\n            ks_pvalue  \nbeta     8.308128e-21  \narcsine  2.239944e-08  ",
      "text/html": "<div>\n<style scoped>\n    .dataframe tbody tr th:only-of-type {\n        vertical-align: middle;\n    }\n\n    .dataframe tbody tr th {\n        vertical-align: top;\n    }\n\n    .dataframe thead th {\n        text-align: right;\n    }\n</style>\n<table border=\"1\" class=\"dataframe\">\n  <thead>\n    <tr style=\"text-align: right;\">\n      <th></th>\n      <th>sumsquare_error</th>\n      <th>aic</th>\n      <th>bic</th>\n      <th>kl_div</th>\n      <th>ks_statistic</th>\n      <th>ks_pvalue</th>\n    </tr>\n  </thead>\n  <tbody>\n    <tr>\n      <th>beta</th>\n      <td>318.188719</td>\n      <td>55.212990</td>\n      <td>-201.123285</td>\n      <td>inf</td>\n      <td>0.215214</td>\n      <td>8.308128e-21</td>\n    </tr>\n    <tr>\n      <th>arcsine</th>\n      <td>283.925518</td>\n      <td>44.619044</td>\n      <td>-270.518862</td>\n      <td>inf</td>\n      <td>0.134727</td>\n      <td>2.239944e-08</td>\n    </tr>\n  </tbody>\n</table>\n</div>"
     },
     "execution_count": 12,
     "metadata": {},
     "output_type": "execute_result"
    },
    {
     "data": {
      "text/plain": "<Figure size 432x288 with 1 Axes>",
      "image/png": "[encoded data removed]"
     },
     "metadata": {
      "needs_background": "light"
     },
     "output_type": "display_data"
    }
   ],
   "source": [
    "f2 = Fitter(test2.stats['ta0'], distributions=['beta', 'arcsine'])\n",
    "f2.fit()\n",
    "f2.summary(method='ks_pvalue')"
   ],
   "metadata": {
    "collapsed": false
   }
  },
  {
   "cell_type": "code",
   "execution_count": 9,
   "outputs": [
    {
     "data": {
      "text/plain": "(1.401204663174946,\n 0.6098524473175528,\n -0.17688429981797144,\n 1.1768842998179716)"
     },
     "execution_count": 9,
     "metadata": {},
     "output_type": "execute_result"
    }
   ],
   "source": [
    "f2.fitted_param['beta']"
   ],
   "metadata": {
    "collapsed": false
   }
  },
  {
   "cell_type": "code",
   "execution_count": 10,
   "outputs": [
    {
     "data": {
      "text/plain": "KstestResult(statistic=0.1313590079965682, pvalue=5.537659453786002e-08)"
     },
     "execution_count": 10,
     "metadata": {},
     "output_type": "execute_result"
    }
   ],
   "source": [
    "tests.arcsine_test(test2.stats['ta0'], 0.5, 0.5)"
   ],
   "metadata": {
    "collapsed": false
   }
  },
  {
   "cell_type": "code",
   "execution_count": 13,
   "outputs": [
    {
     "data": {
      "text/plain": "KstestResult(statistic=0.0583816079925753, pvalue=0.06358879087616798)"
     },
     "execution_count": 13,
     "metadata": {},
     "output_type": "execute_result"
    }
   ],
   "source": [
    "tests.arcsine_test(test2.stats['ta0'], 0.25, 0.25)"
   ],
   "metadata": {
    "collapsed": false
   }
  },
  {
   "cell_type": "code",
   "execution_count": null,
   "outputs": [],
   "source": [],
   "metadata": {
    "collapsed": false
   }
  }
 ],
 "metadata": {
  "kernelspec": {
   "display_name": "Python 3",
   "language": "python",
   "name": "python3"
  },
  "language_info": {
   "codemirror_mode": {
    "name": "ipython",
    "version": 2
   },
   "file_extension": ".py",
   "mimetype": "text/x-python",
   "name": "python",
   "nbconvert_exporter": "python",
   "pygments_lexer": "ipython2",
   "version": "2.7.6"
  }
 },
 "nbformat": 4,
 "nbformat_minor": 0
}
